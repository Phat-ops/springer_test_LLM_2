{
  "cells": [
    {
      "cell_type": "markdown",
      "metadata": {},
      "source": [
        "# Stock Analysis Agent Demo\n"
      ]
    },
    {
      "cell_type": "code",
      "execution_count": null,
      "metadata": {},
      "outputs": [],
      "source": [
        "# If running in a fresh environment, uncomment to install deps\n",
        "# %pip install -r requirements.txt"
      ]
    },
    {
      "cell_type": "code",
      "execution_count": 1,
      "metadata": {},
      "outputs": [],
      "source": [
        "from graph import build_graph\n",
        "\n",
        "graph = build_graph()"
      ]
    },
    {
      "cell_type": "code",
      "execution_count": 2,
      "metadata": {},
      "outputs": [
        {
          "name": "stdout",
          "output_type": "stream",
          "text": [
            "================================================Stock Analysis Report================================================stock: Apple Inc. (AAPL)current price: USD 245.50maeket cap: USD 3.64Tanalysis_time: 2025-09-22 14:54:26Technical Indicator--------------------• SMA 10 days: USD 236.03• SMA 20 day: USD 234.37• RSI (14 days): 64.40trend analysiss--------------------• short trend: BULLISH ↗• Price compared to SMA : Above both moving averages• Momentum: POSITIVEFinal Recommendation--------------------• decision: BUY• reason: price > SMA10 > SMA20 và RSI within 30-70 \n",
            "\n",
            "================================================Stock Analysis Report================================================stock: Microsoft Corporation (MSFT)current price: USD 517.93maeket cap: USD 3.85Tanalysis_time: 2025-09-22 14:54:28Technical Indicator--------------------• SMA 10 days: USD 506.87• SMA 20 day: USD 505.94• RSI (14 days): 60.02trend analysiss--------------------• short trend: BULLISH ↗• Price compared to SMA : Above both moving averages• Momentum: POSITIVEFinal Recommendation--------------------• decision: BUY• reason: price > SMA10 > SMA20 và RSI within 30-70 \n",
            "\n"
          ]
        }
      ],
      "source": [
        "# Analyze two tickers\n",
        "for t in [\"AAPL\", \"MSFT\"]:\n",
        "    final_state = graph.invoke({\"ticker\": t})\n",
        "    print(final_state.get(\"report\", \"No report\"))\n",
        "    print(\"\")"
      ]
    },
    {
      "cell_type": "code",
      "execution_count": null,
      "id": "fe5af266",
      "metadata": {},
      "outputs": [],
      "source": []
    }
  ],
  "metadata": {
    "kernelspec": {
      "display_name": "Python 3",
      "language": "python",
      "name": "python3"
    },
    "language_info": {
      "codemirror_mode": {
        "name": "ipython",
        "version": 3
      },
      "file_extension": ".py",
      "mimetype": "text/x-python",
      "name": "python",
      "nbconvert_exporter": "python",
      "pygments_lexer": "ipython3",
      "version": "3.13.5"
    }
  },
  "nbformat": 4,
  "nbformat_minor": 5
}
